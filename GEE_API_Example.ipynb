{
 "cells": [
  {
   "cell_type": "markdown",
   "id": "4f49c92a",
   "metadata": {},
   "source": [
    "# Google Earth Engine API Example\n",
    "This notebook demonstrates how to use the Google Earth Engine (GEE) API to load, visualize, and process geospatial data."
   ]
  },
  {
   "cell_type": "markdown",
   "id": "35704fd5",
   "metadata": {},
   "source": [
    "## Installation\n",
    "First, you need to install the `earthengine-api` Python package.\n",
    "```python\n",
    "!pip install earthengine-api\n",
    "```"
   ]
  },
  {
   "cell_type": "code",
   "execution_count": 1,
   "id": "93cf785e",
   "metadata": {},
   "outputs": [],
   "source": [
    "import ee\n",
    "import folium\n",
    "import geemap\n",
    "\n",
    "# Initialize the Earth Engine module.\n",
    "ee.Initialize()"
   ]
  },
  {
   "cell_type": "markdown",
   "id": "c081e71a",
   "metadata": {},
   "source": [
    "## Loading and Visualizing Data\n",
    "Let's load some sample data from Google Earth Engine and visualize it on a map."
   ]
  },
  {
   "cell_type": "code",
   "execution_count": 2,
   "id": "2a0ad0c5",
   "metadata": {},
   "outputs": [
    {
     "data": {
      "text/html": [
       "\n",
       "            <style>\n",
       "                .geemap-dark {\n",
       "                    --jp-widgets-color: white;\n",
       "                    --jp-widgets-label-color: white;\n",
       "                    --jp-ui-font-color1: white;\n",
       "                    --jp-layout-color2: #454545;\n",
       "                    background-color: #383838;\n",
       "                }\n",
       "\n",
       "                .geemap-dark .jupyter-button {\n",
       "                    --jp-layout-color3: #383838;\n",
       "                }\n",
       "\n",
       "                .geemap-colab {\n",
       "                    background-color: var(--colab-primary-surface-color, white);\n",
       "                }\n",
       "\n",
       "                .geemap-colab .jupyter-button {\n",
       "                    --jp-layout-color3: var(--colab-primary-surface-color, white);\n",
       "                }\n",
       "            </style>\n",
       "            "
      ],
      "text/plain": [
       "<IPython.core.display.HTML object>"
      ]
     },
     "metadata": {},
     "output_type": "display_data"
    },
    {
     "data": {
      "application/vnd.jupyter.widget-view+json": {
       "model_id": "dc3e7fd4a4084450bee51e0146879395",
       "version_major": 2,
       "version_minor": 0
      },
      "text/plain": [
       "Map(center=[28.6139, 77.209], controls=(WidgetControl(options=['position', 'transparent_bg'], widget=SearchDat…"
      ]
     },
     "execution_count": 2,
     "metadata": {},
     "output_type": "execute_result"
    }
   ],
   "source": [
    "Map = geemap.Map(center=[28.6139, 77.2090], zoom=10)\n",
    "\n",
    "# Load a sample dataset\n",
    "dataset = ee.Image('USGS/SRTMGL1_003')\n",
    "vis_params = {'min': 0, 'max': 3000, 'palette': ['blue', 'green', 'red']}\n",
    "\n",
    "# Add the dataset to the map\n",
    "Map.addLayer(dataset, vis_params, 'SRTM DEM')\n",
    "\n",
    "# Display the map\n",
    "Map"
   ]
  },
  {
   "cell_type": "markdown",
   "id": "47f73b70",
   "metadata": {},
   "source": [
    "## Advanced Operations\n",
    "Here, we perform more advanced operations such as calculating NDVI (Normalized Difference Vegetation Index)."
   ]
  },
  {
   "cell_type": "code",
   "execution_count": 3,
   "id": "1f6f5b67",
   "metadata": {},
   "outputs": [
    {
     "data": {
      "text/html": [
       "\n",
       "            <style>\n",
       "                .geemap-dark {\n",
       "                    --jp-widgets-color: white;\n",
       "                    --jp-widgets-label-color: white;\n",
       "                    --jp-ui-font-color1: white;\n",
       "                    --jp-layout-color2: #454545;\n",
       "                    background-color: #383838;\n",
       "                }\n",
       "\n",
       "                .geemap-dark .jupyter-button {\n",
       "                    --jp-layout-color3: #383838;\n",
       "                }\n",
       "\n",
       "                .geemap-colab {\n",
       "                    background-color: var(--colab-primary-surface-color, white);\n",
       "                }\n",
       "\n",
       "                .geemap-colab .jupyter-button {\n",
       "                    --jp-layout-color3: var(--colab-primary-surface-color, white);\n",
       "                }\n",
       "            </style>\n",
       "            "
      ],
      "text/plain": [
       "<IPython.core.display.HTML object>"
      ]
     },
     "metadata": {},
     "output_type": "display_data"
    },
    {
     "data": {
      "application/vnd.jupyter.widget-view+json": {
       "model_id": "dc3e7fd4a4084450bee51e0146879395",
       "version_major": 2,
       "version_minor": 0
      },
      "text/plain": [
       "Map(center=[28.6139, 77.209], controls=(WidgetControl(options=['position', 'transparent_bg'], widget=SearchDat…"
      ]
     },
     "execution_count": 3,
     "metadata": {},
     "output_type": "execute_result"
    }
   ],
   "source": [
    "def add_ndvi_layer(map_object, image, vis_params):\n",
    "    ndvi = image.normalizedDifference(['B5', 'B4']).rename('NDVI')\n",
    "    map_object.addLayer(ndvi, vis_params, 'NDVI')\n",
    "    return map_object\n",
    "\n",
    "# Load a Landsat 8 image\n",
    "landsat8 = ee.Image('LANDSAT/LC08/C01/T1_SR/LC08_044034_20140318')\n",
    "ndvi_vis_params = {'min': 0, 'max': 1, 'palette': ['blue', 'white', 'green']}\n",
    "\n",
    "# Add NDVI layer to the map\n",
    "Map = add_ndvi_layer(Map, landsat8, ndvi_vis_params)\n",
    "\n",
    "# Display the map\n",
    "Map"
   ]
  }
 ],
 "metadata": {
  "kernelspec": {
   "display_name": "Python 3",
   "language": "python",
   "name": "python3"
  },
  "language_info": {
   "codemirror_mode": {
    "name": "ipython",
    "version": 3
   },
   "file_extension": ".py",
   "mimetype": "text/x-python",
   "name": "python",
   "nbconvert_exporter": "python",
   "pygments_lexer": "ipython3",
   "version": "3.10.9"
  }
 },
 "nbformat": 4,
 "nbformat_minor": 5
}
